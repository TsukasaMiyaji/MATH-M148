{
 "cells": [
  {
   "cell_type": "code",
   "execution_count": 1,
   "id": "68a11d23-e1be-4631-859d-68f2111ece96",
   "metadata": {
    "tags": []
   },
   "outputs": [
    {
     "name": "stdout",
     "output_type": "stream",
     "text": [
      "(64911906, 6)\n"
     ]
    },
    {
     "data": {
      "text/html": [
       "<div>\n",
       "<style scoped>\n",
       "    .dataframe tbody tr th:only-of-type {\n",
       "        vertical-align: middle;\n",
       "    }\n",
       "\n",
       "    .dataframe tbody tr th {\n",
       "        vertical-align: top;\n",
       "    }\n",
       "\n",
       "    .dataframe thead th {\n",
       "        text-align: right;\n",
       "    }\n",
       "</style>\n",
       "<table border=\"1\" class=\"dataframe\">\n",
       "  <thead>\n",
       "    <tr style=\"text-align: right;\">\n",
       "      <th></th>\n",
       "      <th>customer_id</th>\n",
       "      <th>account_id</th>\n",
       "      <th>ed_id</th>\n",
       "      <th>event_name</th>\n",
       "      <th>event_timestamp</th>\n",
       "      <th>journey_steps_until_end</th>\n",
       "    </tr>\n",
       "  </thead>\n",
       "  <tbody>\n",
       "    <tr>\n",
       "      <th>0</th>\n",
       "      <td>-784961211</td>\n",
       "      <td>1773350293</td>\n",
       "      <td>12</td>\n",
       "      <td>application_web_approved</td>\n",
       "      <td>2023-03-22T08:45:22.000Z</td>\n",
       "      <td>1</td>\n",
       "    </tr>\n",
       "    <tr>\n",
       "      <th>1</th>\n",
       "      <td>-784961211</td>\n",
       "      <td>1773350293</td>\n",
       "      <td>19</td>\n",
       "      <td>application_web_view</td>\n",
       "      <td>2023-03-22T13:32:10.000Z</td>\n",
       "      <td>2</td>\n",
       "    </tr>\n",
       "    <tr>\n",
       "      <th>2</th>\n",
       "      <td>-784961211</td>\n",
       "      <td>1773350293</td>\n",
       "      <td>19</td>\n",
       "      <td>application_web_view</td>\n",
       "      <td>2023-03-22T13:32:10.000Z</td>\n",
       "      <td>3</td>\n",
       "    </tr>\n",
       "    <tr>\n",
       "      <th>3</th>\n",
       "      <td>-784961211</td>\n",
       "      <td>1773350293</td>\n",
       "      <td>19</td>\n",
       "      <td>application_web_view</td>\n",
       "      <td>2023-03-22T13:32:10.000Z</td>\n",
       "      <td>4</td>\n",
       "    </tr>\n",
       "    <tr>\n",
       "      <th>4</th>\n",
       "      <td>-784961211</td>\n",
       "      <td>1773350293</td>\n",
       "      <td>19</td>\n",
       "      <td>application_web_view</td>\n",
       "      <td>2023-03-22T13:32:10.000Z</td>\n",
       "      <td>5</td>\n",
       "    </tr>\n",
       "    <tr>\n",
       "      <th>5</th>\n",
       "      <td>-784961211</td>\n",
       "      <td>1773350293</td>\n",
       "      <td>19</td>\n",
       "      <td>application_web_view</td>\n",
       "      <td>2023-03-22T13:32:10.000Z</td>\n",
       "      <td>6</td>\n",
       "    </tr>\n",
       "    <tr>\n",
       "      <th>6</th>\n",
       "      <td>-784961211</td>\n",
       "      <td>1773350293</td>\n",
       "      <td>19</td>\n",
       "      <td>application_web_view</td>\n",
       "      <td>2023-03-22T13:32:10.000Z</td>\n",
       "      <td>7</td>\n",
       "    </tr>\n",
       "    <tr>\n",
       "      <th>7</th>\n",
       "      <td>-784961211</td>\n",
       "      <td>1773350293</td>\n",
       "      <td>19</td>\n",
       "      <td>application_web_view</td>\n",
       "      <td>2023-03-22T13:32:10.000Z</td>\n",
       "      <td>8</td>\n",
       "    </tr>\n",
       "    <tr>\n",
       "      <th>8</th>\n",
       "      <td>-784961211</td>\n",
       "      <td>1773350293</td>\n",
       "      <td>19</td>\n",
       "      <td>application_web_view</td>\n",
       "      <td>2023-03-22T13:32:10.000Z</td>\n",
       "      <td>9</td>\n",
       "    </tr>\n",
       "    <tr>\n",
       "      <th>9</th>\n",
       "      <td>-784961211</td>\n",
       "      <td>1773350293</td>\n",
       "      <td>19</td>\n",
       "      <td>application_web_view</td>\n",
       "      <td>2023-03-22T13:32:10.000Z</td>\n",
       "      <td>10</td>\n",
       "    </tr>\n",
       "  </tbody>\n",
       "</table>\n",
       "</div>"
      ],
      "text/plain": [
       "   customer_id  account_id  ed_id                event_name  \\\n",
       "0   -784961211  1773350293     12  application_web_approved   \n",
       "1   -784961211  1773350293     19      application_web_view   \n",
       "2   -784961211  1773350293     19      application_web_view   \n",
       "3   -784961211  1773350293     19      application_web_view   \n",
       "4   -784961211  1773350293     19      application_web_view   \n",
       "5   -784961211  1773350293     19      application_web_view   \n",
       "6   -784961211  1773350293     19      application_web_view   \n",
       "7   -784961211  1773350293     19      application_web_view   \n",
       "8   -784961211  1773350293     19      application_web_view   \n",
       "9   -784961211  1773350293     19      application_web_view   \n",
       "\n",
       "            event_timestamp  journey_steps_until_end  \n",
       "0  2023-03-22T08:45:22.000Z                        1  \n",
       "1  2023-03-22T13:32:10.000Z                        2  \n",
       "2  2023-03-22T13:32:10.000Z                        3  \n",
       "3  2023-03-22T13:32:10.000Z                        4  \n",
       "4  2023-03-22T13:32:10.000Z                        5  \n",
       "5  2023-03-22T13:32:10.000Z                        6  \n",
       "6  2023-03-22T13:32:10.000Z                        7  \n",
       "7  2023-03-22T13:32:10.000Z                        8  \n",
       "8  2023-03-22T13:32:10.000Z                        9  \n",
       "9  2023-03-22T13:32:10.000Z                       10  "
      ]
     },
     "execution_count": 1,
     "metadata": {},
     "output_type": "execute_result"
    }
   ],
   "source": [
    "import pandas as pd\n",
    "\n",
    "# import the data\n",
    "client_data = pd.read_csv('Data/export.csv')\n",
    "print(client_data.shape)\n",
    "\n",
    "client_data.head(10)"
   ]
  },
  {
   "cell_type": "code",
   "execution_count": 2,
   "id": "c8a2873c-8f6d-4f26-a629-cb97bdb2651f",
   "metadata": {
    "tags": []
   },
   "outputs": [],
   "source": [
    "import pandas as pd\n",
    "import numpy as np\n",
    "import matplotlib.pyplot as plt\n",
    "import time\n",
    "from datetime import datetime\n",
    "import warnings\n",
    "from sklearn.linear_model import LinearRegression\n",
    "import statsmodels.api as sm\n",
    "#from sklearn.preprocessing import StandardScaler "
   ]
  },
  {
   "cell_type": "code",
   "execution_count": 3,
   "id": "17e31246-c919-4133-8955-033ab19c0071",
   "metadata": {
    "tags": []
   },
   "outputs": [
    {
     "data": {
      "text/plain": [
       "customer_id                False\n",
       "account_id                 False\n",
       "ed_id                      False\n",
       "event_name                 False\n",
       "event_timestamp            False\n",
       "journey_steps_until_end    False\n",
       "dtype: bool"
      ]
     },
     "execution_count": 3,
     "metadata": {},
     "output_type": "execute_result"
    }
   ],
   "source": [
    "# check if there are NAs\n",
    "client_data.isna().any()"
   ]
  },
  {
   "cell_type": "code",
   "execution_count": 4,
   "id": "02c00bca-6f35-45c8-b761-f67f1f041b65",
   "metadata": {
    "tags": []
   },
   "outputs": [
    {
     "data": {
      "text/plain": [
       "customer_id                 int64\n",
       "account_id                  int64\n",
       "ed_id                       int64\n",
       "event_name                 object\n",
       "event_timestamp            object\n",
       "journey_steps_until_end     int64\n",
       "dtype: object"
      ]
     },
     "execution_count": 4,
     "metadata": {},
     "output_type": "execute_result"
    }
   ],
   "source": [
    "client_data.dtypes"
   ]
  },
  {
   "cell_type": "code",
   "execution_count": 5,
   "id": "d30db0f0-61f8-4451-9c28-41394888562c",
   "metadata": {
    "tags": []
   },
   "outputs": [],
   "source": [
    "# warnings.filterwarnings('ignore')\n",
    "# start_time = time.time()\n",
    "\n",
    "# sample_data['event_timestamp'] = pd.to_datetime(sample_data['event_timestamp'])\n",
    "\n",
    "# end_time = time.time()\n",
    "# execution_time = end_time - start_time\n",
    "# print(f\"Execution time: {execution_time} seconds\")"
   ]
  },
  {
   "cell_type": "code",
   "execution_count": 6,
   "id": "e5ff01d3-c929-4763-940a-8163195fbd25",
   "metadata": {
    "tags": []
   },
   "outputs": [],
   "source": [
    "# warnings.filterwarnings('ignore')\n",
    "# start_time = time.time()\n",
    "\n",
    "# sample_data['Date'] = sample_data['event_timestamp'].str[:10]\n",
    "# sample_data['Time'] = sample_data['event_timestamp'].str[11:19]\n",
    "# sample_data.drop('event_timestamp', axis=1, inplace=True)\n",
    "\n",
    "# end_time = time.time()\n",
    "# execution_time = end_time - start_time\n",
    "# print(f\"Execution time: {execution_time} seconds\")\n",
    "\n",
    "# sample_data"
   ]
  },
  {
   "cell_type": "code",
   "execution_count": 7,
   "id": "4269efcb-18c3-447a-a172-752412fe5252",
   "metadata": {
    "tags": []
   },
   "outputs": [],
   "source": [
    "client_data['Date'] = client_data['event_timestamp'].str[:10]\n",
    "client_data['Time'] = client_data['event_timestamp'].str[11:19]\n",
    "client_data.drop('event_timestamp', axis=1, inplace=True)"
   ]
  },
  {
   "cell_type": "code",
   "execution_count": 8,
   "id": "3aa0bddb-cbd0-4dfa-bb0c-26df88a3591d",
   "metadata": {},
   "outputs": [],
   "source": [
    "# client_data.head(10)"
   ]
  },
  {
   "cell_type": "code",
   "execution_count": 9,
   "id": "b363562f-b583-449d-a07e-66b3e88f9f0d",
   "metadata": {
    "tags": []
   },
   "outputs": [],
   "source": [
    "# remove duplicates in each customer_id, account_id\n",
    "filtered_data = client_data.drop('journey_steps_until_end', axis=1).drop_duplicates()"
   ]
  },
  {
   "cell_type": "code",
   "execution_count": 10,
   "id": "8f74aec8-bdb3-4d46-86a4-d88be2ec9663",
   "metadata": {
    "tags": []
   },
   "outputs": [
    {
     "data": {
      "text/html": [
       "<div>\n",
       "<style scoped>\n",
       "    .dataframe tbody tr th:only-of-type {\n",
       "        vertical-align: middle;\n",
       "    }\n",
       "\n",
       "    .dataframe tbody tr th {\n",
       "        vertical-align: top;\n",
       "    }\n",
       "\n",
       "    .dataframe thead th {\n",
       "        text-align: right;\n",
       "    }\n",
       "</style>\n",
       "<table border=\"1\" class=\"dataframe\">\n",
       "  <thead>\n",
       "    <tr style=\"text-align: right;\">\n",
       "      <th></th>\n",
       "      <th>customer_id</th>\n",
       "      <th>account_id</th>\n",
       "      <th>ed_id</th>\n",
       "      <th>event_name</th>\n",
       "      <th>Date</th>\n",
       "      <th>Time</th>\n",
       "    </tr>\n",
       "  </thead>\n",
       "  <tbody>\n",
       "    <tr>\n",
       "      <th>0</th>\n",
       "      <td>-784961211</td>\n",
       "      <td>1773350293</td>\n",
       "      <td>12</td>\n",
       "      <td>application_web_approved</td>\n",
       "      <td>2023-03-22</td>\n",
       "      <td>08:45:22</td>\n",
       "    </tr>\n",
       "    <tr>\n",
       "      <th>1</th>\n",
       "      <td>-784961211</td>\n",
       "      <td>1773350293</td>\n",
       "      <td>19</td>\n",
       "      <td>application_web_view</td>\n",
       "      <td>2023-03-22</td>\n",
       "      <td>13:32:10</td>\n",
       "    </tr>\n",
       "    <tr>\n",
       "      <th>14</th>\n",
       "      <td>-784961211</td>\n",
       "      <td>1773350293</td>\n",
       "      <td>3</td>\n",
       "      <td>application_web_submit</td>\n",
       "      <td>2023-03-22</td>\n",
       "      <td>13:32:10</td>\n",
       "    </tr>\n",
       "    <tr>\n",
       "      <th>15</th>\n",
       "      <td>-784961211</td>\n",
       "      <td>1773350293</td>\n",
       "      <td>2</td>\n",
       "      <td>campaign_click</td>\n",
       "      <td>2023-03-22</td>\n",
       "      <td>14:45:22</td>\n",
       "    </tr>\n",
       "    <tr>\n",
       "      <th>16</th>\n",
       "      <td>-784961211</td>\n",
       "      <td>1773350293</td>\n",
       "      <td>19</td>\n",
       "      <td>application_web_view</td>\n",
       "      <td>2023-07-27</td>\n",
       "      <td>14:57:56</td>\n",
       "    </tr>\n",
       "    <tr>\n",
       "      <th>21</th>\n",
       "      <td>-784961211</td>\n",
       "      <td>1773350293</td>\n",
       "      <td>19</td>\n",
       "      <td>application_web_view</td>\n",
       "      <td>2023-08-29</td>\n",
       "      <td>16:01:06</td>\n",
       "    </tr>\n",
       "    <tr>\n",
       "      <th>24</th>\n",
       "      <td>15849251</td>\n",
       "      <td>383997507</td>\n",
       "      <td>4</td>\n",
       "      <td>browse_products</td>\n",
       "      <td>2021-11-04</td>\n",
       "      <td>14:11:15</td>\n",
       "    </tr>\n",
       "    <tr>\n",
       "      <th>25</th>\n",
       "      <td>15849251</td>\n",
       "      <td>383997507</td>\n",
       "      <td>4</td>\n",
       "      <td>browse_products</td>\n",
       "      <td>2021-11-04</td>\n",
       "      <td>14:11:29</td>\n",
       "    </tr>\n",
       "    <tr>\n",
       "      <th>26</th>\n",
       "      <td>15849251</td>\n",
       "      <td>383997507</td>\n",
       "      <td>4</td>\n",
       "      <td>browse_products</td>\n",
       "      <td>2021-11-04</td>\n",
       "      <td>14:12:10</td>\n",
       "    </tr>\n",
       "    <tr>\n",
       "      <th>27</th>\n",
       "      <td>15849251</td>\n",
       "      <td>383997507</td>\n",
       "      <td>4</td>\n",
       "      <td>browse_products</td>\n",
       "      <td>2021-11-04</td>\n",
       "      <td>14:12:21</td>\n",
       "    </tr>\n",
       "  </tbody>\n",
       "</table>\n",
       "</div>"
      ],
      "text/plain": [
       "    customer_id  account_id  ed_id                event_name        Date  \\\n",
       "0    -784961211  1773350293     12  application_web_approved  2023-03-22   \n",
       "1    -784961211  1773350293     19      application_web_view  2023-03-22   \n",
       "14   -784961211  1773350293      3    application_web_submit  2023-03-22   \n",
       "15   -784961211  1773350293      2            campaign_click  2023-03-22   \n",
       "16   -784961211  1773350293     19      application_web_view  2023-07-27   \n",
       "21   -784961211  1773350293     19      application_web_view  2023-08-29   \n",
       "24     15849251   383997507      4           browse_products  2021-11-04   \n",
       "25     15849251   383997507      4           browse_products  2021-11-04   \n",
       "26     15849251   383997507      4           browse_products  2021-11-04   \n",
       "27     15849251   383997507      4           browse_products  2021-11-04   \n",
       "\n",
       "        Time  \n",
       "0   08:45:22  \n",
       "1   13:32:10  \n",
       "14  13:32:10  \n",
       "15  14:45:22  \n",
       "16  14:57:56  \n",
       "21  16:01:06  \n",
       "24  14:11:15  \n",
       "25  14:11:29  \n",
       "26  14:12:10  \n",
       "27  14:12:21  "
      ]
     },
     "execution_count": 10,
     "metadata": {},
     "output_type": "execute_result"
    }
   ],
   "source": [
    "filtered_data.head(10)"
   ]
  },
  {
   "cell_type": "code",
   "execution_count": null,
   "id": "8dccdd52-c82f-4ab7-87bc-1f514e546908",
   "metadata": {
    "tags": []
   },
   "outputs": [],
   "source": [
    "# filtered_data[filtered_data['customer_id'] == 15849251]"
   ]
  },
  {
   "cell_type": "code",
   "execution_count": null,
   "id": "310ff66f-908c-4ea8-bcac-e6025811fa27",
   "metadata": {
    "tags": []
   },
   "outputs": [],
   "source": [
    "# add journey_steps back\n",
    "filtered_data['journey_steps_until_end'] = filtered_data.groupby(['customer_id', 'account_id']).cumcount() + 1"
   ]
  },
  {
   "cell_type": "code",
   "execution_count": null,
   "id": "0ef2831d-6cb3-4b13-ba8d-b9c7f93997a7",
   "metadata": {
    "tags": []
   },
   "outputs": [
    {
     "data": {
      "text/plain": [
       "(55853910, 7)"
      ]
     },
     "execution_count": 13,
     "metadata": {},
     "output_type": "execute_result"
    }
   ],
   "source": [
    "filtered_data.shape"
   ]
  }
 ],
 "metadata": {
  "kernelspec": {
   "display_name": "Python 3 (ipykernel)",
   "language": "python",
   "name": "python3"
  },
  "language_info": {
   "codemirror_mode": {
    "name": "ipython",
    "version": 3
   },
   "file_extension": ".py",
   "mimetype": "text/x-python",
   "name": "python",
   "nbconvert_exporter": "python",
   "pygments_lexer": "ipython3",
   "version": "3.11.5"
  }
 },
 "nbformat": 4,
 "nbformat_minor": 5
}

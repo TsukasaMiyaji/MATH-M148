{
 "cells": [
  {
   "cell_type": "code",
   "execution_count": 6,
   "metadata": {},
   "outputs": [],
   "source": [
    "# libraries\n",
    "import pandas as pd\n",
    "from mlxtend.frequent_patterns import apriori as ap, association_rules as ap_rl\n",
    "import numpy as np\n",
    "from icecream import ic"
   ]
  },
  {
   "cell_type": "code",
   "execution_count": 3,
   "metadata": {},
   "outputs": [],
   "source": [
    "export_head = pd.read_csv(\"C:/Users/lavil/source/repos/LukVill/Misc Data/export_no_dup.csv\", nrows = 1000)"
   ]
  },
  {
   "cell_type": "code",
   "execution_count": 65,
   "metadata": {},
   "outputs": [
    {
     "ename": "AttributeError",
     "evalue": "'numpy.int64' object has no attribute 'isin'",
     "output_type": "error",
     "traceback": [
      "\u001b[1;31m---------------------------------------------------------------------------\u001b[0m",
      "\u001b[1;31mAttributeError\u001b[0m                            Traceback (most recent call last)",
      "Cell \u001b[1;32mIn[65], line 6\u001b[0m\n\u001b[0;32m      1\u001b[0m \u001b[38;5;66;03m# for every customer/account, take their respective ed_id columns and add it into a list\u001b[39;00m\n\u001b[0;32m      2\u001b[0m \n\u001b[0;32m      3\u001b[0m \u001b[38;5;66;03m# make unique list of customer/account pairs\u001b[39;00m\n\u001b[0;32m      4\u001b[0m unique_cust \u001b[38;5;241m=\u001b[39m export_head[[\u001b[38;5;124m\"\u001b[39m\u001b[38;5;124mcustomer_id\u001b[39m\u001b[38;5;124m\"\u001b[39m,\u001b[38;5;124m\"\u001b[39m\u001b[38;5;124maccount_id\u001b[39m\u001b[38;5;124m\"\u001b[39m]]\u001b[38;5;241m.\u001b[39mdrop_duplicates()\u001b[38;5;241m.\u001b[39mreset_index(drop\u001b[38;5;241m=\u001b[39m\u001b[38;5;28;01mTrue\u001b[39;00m)\n\u001b[1;32m----> 6\u001b[0m ic(\u001b[43munique_cust\u001b[49m\u001b[38;5;241;43m.\u001b[39;49m\u001b[43mloc\u001b[49m\u001b[43m[\u001b[49m\u001b[38;5;241;43m0\u001b[39;49m\u001b[43m,\u001b[49m\u001b[38;5;124;43m\"\u001b[39;49m\u001b[38;5;124;43mcustomer_id\u001b[39;49m\u001b[38;5;124;43m\"\u001b[39;49m\u001b[43m]\u001b[49m\u001b[38;5;241;43m.\u001b[39;49m\u001b[43misin\u001b[49m(export_head[\u001b[38;5;124m\"\u001b[39m\u001b[38;5;124mcustomer_id\u001b[39m\u001b[38;5;124m\"\u001b[39m]))\n\u001b[0;32m      7\u001b[0m \u001b[38;5;66;03m#ic(export_head.loc[export_head[\"customer_id\"].isin(unique_cust.loc[0,\"customer_id\"]) & export_head[\"account_id\"] == unique_cust.loc[0,\"account_id\"]])\u001b[39;00m\n\u001b[0;32m      8\u001b[0m \n\u001b[0;32m      9\u001b[0m \u001b[38;5;66;03m# filter cust and account to each entry in and take ed_id col\u001b[39;00m\n\u001b[0;32m     10\u001b[0m \u001b[38;5;28;01mfor\u001b[39;00m pair \u001b[38;5;129;01min\u001b[39;00m \u001b[38;5;28mrange\u001b[39m(\u001b[38;5;28mlen\u001b[39m(unique_cust\u001b[38;5;241m.\u001b[39mindex)):\n",
      "\u001b[1;31mAttributeError\u001b[0m: 'numpy.int64' object has no attribute 'isin'"
     ]
    }
   ],
   "source": [
    "# for every customer/account, take their respective ed_id columns and add it into a list\n",
    "\n",
    "# make unique list of customer/account pairs\n",
    "unique_cust = export_head[[\"customer_id\",\"account_id\"]].drop_duplicates().reset_index(drop=True)\n",
    "\n",
    "ic(unique_cust.loc[0,\"customer_id\"].isin(export_head[\"customer_id\"]))\n",
    "#ic(export_head.loc[export_head[\"customer_id\"].isin(unique_cust.loc[0,\"customer_id\"]) & export_head[\"account_id\"] == unique_cust.loc[0,\"account_id\"]])\n",
    "\n",
    "# filter cust and account to each entry in and take ed_id col\n",
    "for pair in range(len(unique_cust.index)):\n",
    "    pass\n",
    "    #ic(export_head.loc[export_head[\"customer_id\"] == unique_cust.iloc[0,\"customer_id\"] and \n",
    "                       #export_head[\"account_id\"] == unique_cust.iloc[0,\"account_id\"],:])"
   ]
  }
 ],
 "metadata": {
  "kernelspec": {
   "display_name": "Python 3",
   "language": "python",
   "name": "python3"
  },
  "language_info": {
   "codemirror_mode": {
    "name": "ipython",
    "version": 3
   },
   "file_extension": ".py",
   "mimetype": "text/x-python",
   "name": "python",
   "nbconvert_exporter": "python",
   "pygments_lexer": "ipython3",
   "version": "3.10.11"
  }
 },
 "nbformat": 4,
 "nbformat_minor": 2
}
